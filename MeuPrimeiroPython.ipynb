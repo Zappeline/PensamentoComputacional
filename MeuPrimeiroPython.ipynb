{
  "cells": [
    {
      "cell_type": "markdown",
      "metadata": {
        "id": "I2ZVag_CAGIu"
      },
      "source": [
        "# Meu primeiro código em Python"
      ]
    },
    {
      "cell_type": "code",
      "execution_count": null,
      "metadata": {
        "colab": {
          "base_uri": "https://localhost:8080/"
        },
        "id": "BSPefhGc_yqw",
        "outputId": "67e001ca-e805-46a1-f64d-cddee6d24f4c"
      },
      "outputs": [
        {
          "name": "stdout",
          "output_type": "stream",
          "text": [
            "Ola, mundo!\n"
          ]
        }
      ],
      "source": [
        "print(\"Ola, mundo!\")"
      ]
    },
    {
      "cell_type": "markdown",
      "metadata": {
        "id": "qSpGbuKroOv7"
      },
      "source": [
        "Estrutura condicional!"
      ]
    },
    {
      "cell_type": "code",
      "execution_count": null,
      "metadata": {
        "colab": {
          "base_uri": "https://localhost:8080/"
        },
        "id": "RJ49OBJToaTa",
        "outputId": "2aff2349-9bd0-4e13-b36f-3a2786ea2734"
      },
      "outputs": [
        {
          "name": "stdout",
          "output_type": "stream",
          "text": [
            "O Joao Pedro Ferreiratem 18 ANOS!\n"
          ]
        }
      ],
      "source": [
        "# Algoritmo para indicar se uma pessoa é maior de idade\n",
        "\n",
        "nome = \"Joao Pedro Ferreira\"\n",
        "idade = 18\n",
        "\n",
        "\n",
        "print(\"O \" + nome + \"tem\" , idade, \"ANOS!\")"
      ]
    },
    {
      "cell_type": "code",
      "execution_count": null,
      "metadata": {
        "colab": {
          "base_uri": "https://localhost:8080/"
        },
        "id": "sFCNcZvHqAdC",
        "outputId": "2e57c44c-b69b-4252-95d5-ad68c0f4cb9f"
      },
      "outputs": [
        {
          "name": "stdout",
          "output_type": "stream",
          "text": [
            "o Joao Pedro Ferreira é maior de idade\n"
          ]
        }
      ],
      "source": [
        "if idade >= 18:\n",
        "  print(\"o \" + nome + \" é maior de idade\")\n",
        "else:\n",
        "  print(\"o \" + nome + \" é menor de idade\")"
      ]
    },
    {
      "cell_type": "markdown",
      "metadata": {
        "id": "WoaJ5JVmq6TO"
      },
      "source": [
        "# algoritmo para identificar se uma pessoa pode votar!"
      ]
    },
    {
      "cell_type": "code",
      "execution_count": null,
      "metadata": {
        "colab": {
          "base_uri": "https://localhost:8080/"
        },
        "id": "sgQkKQvErQ-E",
        "outputId": "92c500f6-1618-4859-cdb7-88217affbf14"
      },
      "outputs": [
        {
          "name": "stdout",
          "output_type": "stream",
          "text": [
            "o Joao Pedro Ferreira é obrigado a votar\n",
            "Fim do algoritmo!\n"
          ]
        }
      ],
      "source": [
        "if idade >= 18 and idade < 65:\n",
        "  print(\"o \" + nome + \" é obrigado a votar\")\n",
        "else:\n",
        "  if idade < 16:\n",
        "    print(\"o \" + nome + \" não pode votar\")\n",
        "  else:\n",
        "    if idade >= 0 and idade >= 16 and idade < 18 or idade >= 65:\n",
        "      print(\"o \" + nome + \" é facultativo votar\")\n",
        "print(\"Fim do algoritmo!\")\n"
      ]
    },
    {
      "cell_type": "code",
      "execution_count": null,
      "metadata": {
        "colab": {
          "base_uri": "https://localhost:8080/"
        },
        "id": "_vJ-FMBjwCe6",
        "outputId": "b9a5fdac-5c72-4a04-f10a-1086abb007d0"
      },
      "outputs": [
        {
          "name": "stdout",
          "output_type": "stream",
          "text": [
            "o Joao Pedro Ferreira é obrigado a votar\n",
            "Fim do algoritmo!\n"
          ]
        }
      ],
      "source": [
        "if idade >= 18 and idade < 65:\n",
        "  print(\"o\", nome, \"é obrigado a votar\")\n",
        "elif idade < 16:\n",
        "  print(\"o\", nome, \"não pode votar\")\n",
        "else:\n",
        "  print(\"o\", nome, \"é facultativo votar\")\n",
        "print(\"Fim do algoritmo!\")"
      ]
    },
    {
      "cell_type": "markdown",
      "metadata": {
        "id": "PThAYVLZ0e1H"
      },
      "source": [
        "# Laços de repetição"
      ]
    },
    {
      "cell_type": "code",
      "execution_count": null,
      "metadata": {
        "colab": {
          "base_uri": "https://localhost:8080/"
        },
        "id": "y4itpx4r0jSx",
        "outputId": "84bb736f-c0ee-451e-fd43-0da91d63be22"
      },
      "outputs": [
        {
          "name": "stdout",
          "output_type": "stream",
          "text": [
            "Interação 0 !\n",
            "Interação 1 !\n",
            "Interação 2 !\n",
            "Interação 3 !\n",
            "Interação 4 !\n"
          ]
        }
      ],
      "source": [
        "for i in range(5):\n",
        "  print(\"Interação\", i,\"!\")\n"
      ]
    },
    {
      "cell_type": "code",
      "execution_count": null,
      "metadata": {
        "colab": {
          "base_uri": "https://localhost:8080/"
        },
        "id": "OqVyhS151K0m",
        "outputId": "a38bf772-26cb-4da9-abfa-545a956723ce"
      },
      "outputs": [
        {
          "name": "stdout",
          "output_type": "stream",
          "text": [
            "Interação 0 !\n",
            "Interação 3 !\n",
            "Interação 6 !\n",
            "Interação 9 !\n",
            "Interação 12 !\n"
          ]
        }
      ],
      "source": [
        "contador = 0\n",
        "\n",
        "while contador <15:\n",
        "  print(\"Interação\", contador,\"!\")\n",
        "  contador += 3 #contador = contador + 1"
      ]
    }
  ],
  "metadata": {
    "colab": {
      "authorship_tag": "ABX9TyOXfIEIl38lmyE0ccAPFxlL",
      "include_colab_link": true,
      "provenance": []
    },
    "kernelspec": {
      "display_name": "Python 3",
      "name": "python3"
    },
    "language_info": {
      "name": "python"
    }
  },
  "nbformat": 4,
  "nbformat_minor": 0
}
