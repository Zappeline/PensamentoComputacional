{
  "nbformat": 4,
  "nbformat_minor": 0,
  "metadata": {
    "colab": {
      "provenance": [],
      "authorship_tag": "ABX9TyMV+yfWulKwuKaXBo4oBZAU",
      "include_colab_link": true
    },
    "kernelspec": {
      "name": "python3",
      "display_name": "Python 3"
    },
    "language_info": {
      "name": "python"
    }
  },
  "cells": [
    {
      "cell_type": "markdown",
      "metadata": {
        "id": "view-in-github",
        "colab_type": "text"
      },
      "source": [
        "<a href=\"https://colab.research.google.com/github/Zappeline/PensamentoComputacional/blob/main/Exerc%C3%ADcios_de_Aula_Comandos_de_Entrada_e_Sa%C3%ADda_em_Python.ipynb\" target=\"_parent\"><img src=\"https://colab.research.google.com/assets/colab-badge.svg\" alt=\"Open In Colab\"/></a>"
      ]
    },
    {
      "cell_type": "markdown",
      "source": [
        "Exercícios de Aula: Comandos de Entrada e Saída em Python"
      ],
      "metadata": {
        "id": "SaPye6ip8jwe"
      }
    },
    {
      "cell_type": "markdown",
      "source": [
        "### 1.Faça em Python um algoritmo que leia um número inteiro qualquer. O algoritmo deve calcular e escrever o quadrado, a raiz quadrada, e a divisão do quadrado pela raiz quadrada do número lido."
      ],
      "metadata": {
        "id": "loUvxWoR9AkO"
      }
    },
    {
      "cell_type": "code",
      "execution_count": null,
      "metadata": {
        "colab": {
          "base_uri": "https://localhost:8080/"
        },
        "id": "aKvVStKV8YGn",
        "outputId": "5b1b9ba2-fbf9-46d5-8d9e-1f046eef8dac"
      },
      "outputs": [
        {
          "output_type": "stream",
          "name": "stdout",
          "text": [
            "informe um numero inteiro qualquer:31\n",
            "O quadrado de 31  é 961 , a raiz quadrada é 5.5677643628300215 e a divisao do quadrado pela raiz quadrada é 172.6006952477307\n"
          ]
        }
      ],
      "source": [
        "# Algoritmo de cálculo de quadrado, raiz quadrada e divisão do quadrado pela raiz quadrada\n",
        "\n",
        "# blibiotecas\n",
        "import math\n",
        "\n",
        "# Var\n",
        "n = 0\n",
        "quad = 0\n",
        "raiz = 0.0\n",
        "div_quad_raiz = 0.0\n",
        "\n",
        "# Inicia a captura do inteiro\n",
        "n = int(input(\"informe um numero inteiro qualquer:\"))\n",
        "\n",
        "# quadrado de n\n",
        "quad = n ** 2\n",
        "\n",
        "# raiz quadrada\n",
        "raiz = math.sqrt(n)\n",
        "\n",
        "# divisao do quadrado pela raiz\n",
        "div_quad_raiz = quad/raiz\n",
        "\n",
        "print(\"O quadrado de\",n ,\" é\", quad, \", a raiz quadrada é\", raiz, \"e a divisao do quadrado pela raiz quadrada é\", div_quad_raiz)\n"
      ]
    },
    {
      "cell_type": "markdown",
      "source": [
        "### 2. Faça em Python um algoritmo que calcule e escreva o preço final de um computador, sendo fornecido o preço de fábrica. O preço final do computador é calculado com base nos adicionais de: 30 % de imposto e 10 % de revenda sobre o preço de fábrica."
      ],
      "metadata": {
        "id": "NPWqf4TRB1yA"
      }
    },
    {
      "cell_type": "code",
      "source": [
        "# Preço final de um computador\n",
        "\n",
        "# var\n",
        "imposto = 30\n",
        "revenda = 10\n",
        "valor = 0\n",
        "preço = 0\n",
        "\n",
        "# inicio\n",
        "valor = float(input('informe o valor de fabrica do computador:'))\n",
        "imposto = valor * imposto/100\n",
        "revenda = valor * revenda/100\n",
        "preço = valor + imposto + revenda\n",
        "\n",
        "print('O preço final do computador é', round(preço, 2))\n",
        "\n",
        "\n"
      ],
      "metadata": {
        "colab": {
          "base_uri": "https://localhost:8080/"
        },
        "id": "F-ijQAt2B6CG",
        "outputId": "ac26281c-1f93-480c-c1f6-ea2edad4b7da"
      },
      "execution_count": null,
      "outputs": [
        {
          "output_type": "stream",
          "name": "stdout",
          "text": [
            "informe o valor de fabrica do computador:1234.78\n",
            "O preço final do computador é 1728.69\n"
          ]
        }
      ]
    },
    {
      "cell_type": "markdown",
      "source": [
        "### 3. Faça um algoritmo em Python que leia três números inteiros e calcule a sua média. Ao final, o algoritmo deve escrever os números lidos e o resultado da média."
      ],
      "metadata": {
        "id": "t_vA6vCREvgy"
      }
    },
    {
      "cell_type": "code",
      "source": [
        "# Calcular média de três numeros\n",
        "\n",
        "#var\n",
        "n1 = 0\n",
        "n2 = 0\n",
        "n3 = 0\n",
        "md = 0\n",
        "\n",
        "n1 = int(input(\"Informe o primeiro número:\"))\n",
        "n2 = int(input(\"informe o segundo número:\"))\n",
        "n3 = int(input(\"informe o terceiro número:\"))\n",
        "\n",
        "md = (n1 + n2 + n3)/3\n",
        "\n",
        "print('a média dos três números é ', md)"
      ],
      "metadata": {
        "colab": {
          "base_uri": "https://localhost:8080/"
        },
        "id": "WbDMP6rgFwSc",
        "outputId": "dd279506-9eef-4ed9-bd0e-e75dae07c2ef"
      },
      "execution_count": null,
      "outputs": [
        {
          "output_type": "stream",
          "name": "stdout",
          "text": [
            "Informe o primeiro número:5\n",
            "informe o segundo número:6\n",
            "informe o terceiro número:1\n",
            "a média dos três números é  4.0\n"
          ]
        }
      ]
    },
    {
      "cell_type": "markdown",
      "source": [
        "### 4. Fazer um algoritmo em Python que calcule o número de litros de combustível gastos em uma viagem, sabendo-se que o carro faz 12 km com um litro. Deverão ser lidos o tempo gasto na viagem e a velocidade média. Aplicar as seguintes fórmulas:\n",
        "- Distância = tempo gasto x velocidade média\n",
        "- litros gastos = distância / 12"
      ],
      "metadata": {
        "id": "hERcAn1_HsnR"
      }
    },
    {
      "cell_type": "code",
      "source": [
        "# Calcular consumo gasto de gasolina em uma viagem\n",
        "\n",
        "#var\n",
        "distancia = 0\n",
        "litrosgastos = 0\n",
        "tempo = 0\n",
        "valocidade = 0\n",
        "\n",
        "tempo = int(input(\"Qual foi o tempo da viagem em horas?:\"))\n",
        "velocidade = int(input('Qual foi a velocidade média da viagem?:'))\n",
        "\n",
        "distancia = tempo * velocidade\n",
        "litrosgastos = distancia / 12\n",
        "\n",
        "print(\"O carro faz 12km por litro, então você gastou em\", distancia, \"km, um total de\", litrosgastos, \"litros andando na velocidade média de\", velocidade, \"km/h\" )\n",
        "\n",
        "\n"
      ],
      "metadata": {
        "id": "z1DpDpaRHvg4",
        "colab": {
          "base_uri": "https://localhost:8080/"
        },
        "outputId": "e8d01ad5-9ae7-4bd6-f08d-527bb6e3ba24"
      },
      "execution_count": null,
      "outputs": [
        {
          "output_type": "stream",
          "name": "stdout",
          "text": [
            "Qual foi o tempo da viagem em horas?:4\n",
            "Qual foi a velocidade média da viagem?:100\n",
            "O carro faz 12km por litro, então você gastou em 400 km, um total de 33.333333333333336 litros andando na velocidade média de 100 km/h\n"
          ]
        }
      ]
    },
    {
      "cell_type": "markdown",
      "source": [
        "### 5.Faça em Python um algoritmo que leia dois números inteiros (x e y), e calcule o quociente e o resto da divisão de x por y e escreva os resultados."
      ],
      "metadata": {
        "id": "dg5ErAWIbm9S"
      }
    },
    {
      "cell_type": "code",
      "source": [
        "# Ler dois numeros calculando o quociente e a divisao de x por y\n",
        "\n",
        "#Var\n",
        "n1 = 0\n",
        "n2 = 0\n",
        "calcular_resto = 0\n",
        "\n",
        "n1 = int(input(\"Digite o primeiro número:\"))\n",
        "n2 = int(input(\"Digite o segundo número:\"))\n",
        "\n",
        "quociente = n1 // n2\n",
        "resto = n1 % n2\n",
        "print(\"o quociente dos do número\", n1, \"pelo número\", n2, \"é:\", quociente, \"e o resto da divisão dos dois números é:\", resto,)"
      ],
      "metadata": {
        "colab": {
          "base_uri": "https://localhost:8080/"
        },
        "id": "HjqSZb0NboHG",
        "outputId": "baec572a-4356-42d6-8033-6bab7c2a1fb7"
      },
      "execution_count": null,
      "outputs": [
        {
          "output_type": "stream",
          "name": "stdout",
          "text": [
            "Digite o primeiro número:7\n",
            "Digite o segundo número:2\n",
            "o quociente dos do número 7 pelo número 2 é: 3 e o resto da divisão dos dois números é: 1\n"
          ]
        }
      ]
    },
    {
      "cell_type": "markdown",
      "source": [
        "### 6.Escreva em python um algoritmo que leia três números reais (a, b, c), e calcule a média aritmética. Após os cálculos, os resultados deverão ser escritos.\\"
      ],
      "metadata": {
        "id": "tGOYabbHfUpm"
      }
    },
    {
      "cell_type": "code",
      "source": [
        "# Pedir três números e somar a média\n",
        "\n",
        "#var\n",
        "\n",
        "n1 = 0\n",
        "n2 = 0\n",
        "n3 = 0\n",
        "\n",
        "n1 = int(input(\"Digite o primeiro número:\"))\n",
        "n2 = int(input(\"Digite o segundo número:\"))\n",
        "n3 = int(input(\"Digite o terceiro número:\"))\n",
        "\n",
        "total = n1 + n2 + n3\n",
        "media = total / 3\n",
        "\n",
        "print(\"A media dos três números é:\", round(media, 2))"
      ],
      "metadata": {
        "colab": {
          "base_uri": "https://localhost:8080/"
        },
        "id": "Wl8NkrhqfWfD",
        "outputId": "b2b2d076-fcff-43ab-bba9-88d4a16ce4f0"
      },
      "execution_count": null,
      "outputs": [
        {
          "output_type": "stream",
          "name": "stdout",
          "text": [
            "Digite o primeiro número:7\n",
            "Digite o segundo número:22\n",
            "Digite o terceiro número:45\n",
            "A media dos três números é: 24.67\n"
          ]
        }
      ]
    },
    {
      "cell_type": "markdown",
      "source": [
        "### 7.Uma loja de equipamentos de informática resolveu incentivar os seus funcionários a venderem no mês março. Para cada produto vendido, a loja dará uma bonificação de 1%, sobre o salário do funcionário. Desta forma, o funcionário que vender 10 produtos, terá um acréscimo de 10% em seu salário. Faça um algoritmo em Python que leia o código, o nome e o salário fixo do funcionário, além do número de produtos vendidos por ele no mês, e calcule o salário final do funcionário. Por fim, o algoritmo deve escrever o código e o nome do funcionário, juntamente com o seu salário final."
      ],
      "metadata": {
        "id": "C6yOnZBegawN"
      }
    },
    {
      "cell_type": "code",
      "source": [
        "# Leitura dos dados do funcionário\n",
        "codigo = input(\"Digite o código do funcionário: \")\n",
        "nome = input(\"Digite o nome do funcionário: \")\n",
        "salario_fixo = float(input(\"Digite o salário fixo do funcionário: R$ \"))\n",
        "produtos_vendidos = int(input(\"Digite o número de produtos vendidos no mês: \"))\n",
        "\n",
        "# Cálculo da bonificação\n",
        "bonificacao = 0.01 * produtos_vendidos * salario_fixo\n",
        "\n",
        "# Cálculo do salário final\n",
        "salario_final = salario_fixo + bonificacao\n",
        "\n",
        "# Exibindo o resultado\n",
        "print(\"\\nCodigo:\", codigo)\n",
        "print(\"Nome:\", nome,)\n",
        "print(\"Salario final: R$\", round(salario_final, 2))"
      ],
      "metadata": {
        "colab": {
          "base_uri": "https://localhost:8080/"
        },
        "id": "PL_SpbHmgdb_",
        "outputId": "80d27ace-a1a5-4356-9000-e429838acb36"
      },
      "execution_count": null,
      "outputs": [
        {
          "output_type": "stream",
          "name": "stdout",
          "text": [
            "Digite o código do funcionário: 1256\n",
            "Digite o nome do funcionário: Lucas\n",
            "Digite o salário fixo do funcionário: R$ 2800\n",
            "Digite o número de produtos vendidos no mês: 12\n",
            "\n",
            "Codigo: 1256\n",
            "Nome: Lucas\n",
            "Salario final: R$ 3136.0\n"
          ]
        }
      ]
    },
    {
      "cell_type": "markdown",
      "source": [
        "### 8. Construa um algoritmo em Python que calcule a quantidade de latas de tintas necessárias e o custo para pintar tanques cilíndricos de combustível, onde são fornecidos a altura e o raio deste cilindro. Sabendo que:\n",
        "\n",
        "● a lata de tinta custa R$ 150,00\n",
        "\n",
        "● cada lata contém 5 litros;\n",
        "\n",
        "● cada litro de tinta pinta 3 metros quadrados;\n",
        "\n",
        "● a área do total cilindro é dada por área da base + área lateral;\n",
        "\n",
        "● a área da base do cilindro é dada π*raio\n",
        "2\n",
        "\n",
        "● a área da lateral é 2*π*raio*altura.\n",
        "\n",
        "● Lembrando que π (pi) vale 3,14."
      ],
      "metadata": {
        "id": "ZmS1Mx9jR7xv"
      }
    },
    {
      "cell_type": "code",
      "source": [
        "# Quantidades de latas de tintas necessarias para pintar determinadas areas\n",
        "#import math (caso usar a opção de importar)\n",
        "# Entradas de dados: altura e raio do cilindro\n",
        "altura = input(\"informe a altura do tanque (em metros) Ex:12,5:\")\n",
        "altura = float(altura.replace(\",\", \".\"))\n",
        "raio = input(\"informe o raio do cilindro: (em metros) Ex:1,5:\")\n",
        "raio = float(raio.replace(\",\", \".\"))\n",
        "\n",
        "# Constantes\n",
        "custos_lata = 150 #R$\n",
        "volume_latas = 5 #Litros\n",
        "area_por_litro = 3 #M ^2/L\n",
        "pi = 3.14 #Valor PI\n",
        "\n",
        "# Calculo da area da base\n",
        "area_da_base = pi * (raio ** 2)\n",
        "# Calculo da area lateral\n",
        "area_lateral = 2 * pi * raio * altura\n",
        "# Calculo da area total\n",
        "area_total = area_da_base + area_lateral #M ^2\n",
        "# Calculo do volume total\n",
        "volume_total = area_total / area_por_litro #L\n",
        "# Calculo de volume de latas\n",
        "#(caso usar a opção de importar) numero_de_latas = math.ceil(volume_total / volume_latas) #Latas\n",
        "numero_de_latas = volume_total // volume_latas\n",
        "\n",
        "#Verifcar se tem ponto flutuante e add1 (arredondar numero)\n",
        "if volume_total % volume_latas > 0:\n",
        "    numero_de_latas += 1\n",
        "\n",
        "custo_total = numero_de_latas * custos_lata\n",
        "\n",
        "print(\"A area total é de\", round( area_total, 2), \"m^2\")\n",
        "print(\"Serão necessarias\", numero_de_latas, \" Latas de tintas\")\n",
        "print(\"O custo total será de R$\", round( custo_total, 2))\n"
      ],
      "metadata": {
        "colab": {
          "base_uri": "https://localhost:8080/"
        },
        "id": "YkaVudWVSgSW",
        "outputId": "e7bad3c9-544c-49d9-852e-ec20f35496f3"
      },
      "execution_count": null,
      "outputs": [
        {
          "output_type": "stream",
          "name": "stdout",
          "text": [
            "informe a altura do tanque (em metros) Ex:12,5:10,5\n",
            "informe o raio do cilindro: (em metros) Ex:1,5:2,5\n",
            "A area total é de 184.48 m^2\n",
            "Serão necessarias 13.0  Latas de tintas\n",
            "O custo total será de R$ 1950.0\n"
          ]
        }
      ]
    },
    {
      "cell_type": "markdown",
      "source": [
        "### 9. Elabore um algoritmo em Python para calcular e escrever o preço final de um computador, sendo fornecido o preço de fábrica. O preço final do computador é calculado com base nos adicionais 45 % de imposto e 28 % de revenda sobre o preço de fábrica."
      ],
      "metadata": {
        "id": "5UxZNH41jWz6"
      }
    },
    {
      "cell_type": "code",
      "source": [
        "def calcular_preco_final_computador():\n",
        "  \"\"\"Calcula e imprime o preço final de um computador com base no preço de fábrica.\"\"\"\n",
        "\n",
        "  try:\n",
        "    preco_fabrica = float(input(\"Digite o preço de fábrica do computador: \"))\n",
        "\n",
        "    if preco_fabrica < 0:\n",
        "      print(\"Preço de fábrica inválido. Digite um valor não negativo.\")\n",
        "      return\n",
        "\n",
        "    # Calcular o valor do imposto\n",
        "    valor_imposto = preco_fabrica * 0.45\n",
        "\n",
        "    # Calcular o valor do adicional de revenda\n",
        "    valor_revenda = preco_fabrica * 0.28\n",
        "\n",
        "    # Calcular o preço final\n",
        "    preco_final = preco_fabrica + valor_imposto + valor_revenda\n",
        "\n",
        "    # Escrever os resultados\n",
        "    print(f\"\\nPreço de Fábrica: R$ {preco_fabrica:.2f}\")\n",
        "    print(f\"Imposto (45%): R$ {valor_imposto:.2f}\")\n",
        "    print(f\"Adicional de Revenda (28%): R$ {valor_revenda:.2f}\")\n",
        "    print(f\"Preço Final do Computador: R$ {preco_final:.2f}\")\n",
        "\n",
        "  except ValueError:\n",
        "    print(\"Entrada inválida. Por favor, digite um valor numérico para o preço de fábrica.\")\n",
        "\n",
        "# Executar a função para calcular o preço final\n",
        "if __name__ == \"__main__\":\n",
        "  calcular_preco_final_computador()"
      ],
      "metadata": {
        "id": "vyhOl_UTjaFi"
      },
      "execution_count": null,
      "outputs": []
    },
    {
      "cell_type": "markdown",
      "source": [
        "###10. Uma revendedora de carros usados paga aos seus funcionários vendedores, um salário fixo por mês, mais uma comissão para cada carro vendido. Escreva um algoritmo em Python que leia o número do vendedor, o seu salário fixo, o número de carros por ele vendidos, e o valor que recebe por carro vendido, e calcule o salário mensal do vendedor, escrevendo-o juntamente com o seu número de identificação."
      ],
      "metadata": {
        "id": "RiPeBLL9jbiV"
      }
    },
    {
      "cell_type": "code",
      "source": [
        "def calcular_preco_final_computador():\n",
        "  \"\"\"Calcula e imprime o preço final de um computador com base no preço de fábrica.\"\"\"\n",
        "\n",
        "  try:\n",
        "    preco_fabrica = float(input(\"Digite o preço de fábrica do computador: \"))\n",
        "\n",
        "    if preco_fabrica < 0:\n",
        "      print(\"Preço de fábrica inválido. Digite um valor não negativo.\")\n",
        "      return\n",
        "\n",
        "    # Calcular o valor do imposto\n",
        "    valor_imposto = preco_fabrica * 0.45\n",
        "\n",
        "    # Calcular o valor do adicional de revenda\n",
        "    valor_revenda = preco_fabrica * 0.28\n",
        "\n",
        "    # Calcular o preço final\n",
        "    preco_final = preco_fabrica + valor_imposto + valor_revenda\n",
        "\n",
        "    # Escrever os resultados\n",
        "    print(f\"\\nPreço de Fábrica: R$ {preco_fabrica:.2f}\")\n",
        "    print(f\"Imposto (45%): R$ {valor_imposto:.2f}\")\n",
        "    print(f\"Adicional de Revenda (28%): R$ {valor_revenda:.2f}\")\n",
        "    print(f\"Preço Final do Computador: R$ {preco_final:.2f}\")\n",
        "\n",
        "  except ValueError:\n",
        "    print(\"Entrada inválida. Por favor, digite um valor numérico para o preço de fábrica.\")\n",
        "\n",
        "# Executar a função para calcular o preço final\n",
        "if __name__ == \"__main__\":\n",
        "  calcular_preco_final_computador()"
      ],
      "metadata": {
        "id": "zkSn8Acmjht6"
      },
      "execution_count": null,
      "outputs": []
    },
    {
      "cell_type": "markdown",
      "source": [
        "### 11. Uma empresa, para emitir a sua folha de pagamento mensal, trabalha com os seguintes dados:\n",
        "Relativos ao Sistema de Pagamentos\n",
        "\n",
        "Valor da Hora Normal = R$ 8,00\n",
        "\n",
        "Valor da Hora Extra = R$ 9,50\n",
        "\n",
        "Valor do Acréscimo por Dependente = RS 2,50\n",
        "\n",
        "Relativos a cada Funcionário\n",
        "Número de Identificação\n",
        "\n",
        "Nome\n",
        "\n",
        "Número de horas normais trabalhadas\n",
        "\n",
        "Número de horas extras trabalhadas\n",
        "\n",
        "Número de dependentes\n",
        "\n",
        "O cálculo do salário de cada funcionário é feito em 3 etapas:\n",
        "Etapa 1 : Cálculo do Salário Bruto\n",
        "\n",
        "SALARIO BRUTO = Valor Total de Horas Normais + Valor Total de Horas Extras + Valor Total de\n",
        "Dependentes\n",
        "\n",
        "Etapa 2 : Descontos\n",
        "Todos os funcionários são isentos de imposto de renda, e descontam 5% do salário bruto para o INSS.\n",
        "\n",
        "Etapa 3 : Salário Líquido\n",
        "SALARIO LÍQUIDO = SALARIO BRUTO - DESCONTO\n",
        "\n",
        "Escrever um algoritmo em Python que leia os dados referentes ao funcionário, calcule e escreva o\n",
        "salário líquido do funcionário da empresa. Obs.: Além do salário líquido, escreva o número de\n",
        "identificação e o nome do funcionário."
      ],
      "metadata": {
        "id": "MljfIZOJjiYy"
      }
    },
    {
      "cell_type": "code",
      "source": [
        "# Algoritmo para calcular o salario liquido de um funcionario\n",
        "\n",
        "# Entrada de dados:\n",
        "nome = input(\"informe o nome do funcionario:\")\n",
        "numero_id = input(\"informe o número de identificação do funcionario\" + nome +\" :\")\n",
        "horas_normais = float(input(\"informe o numero de horas normais trabalhadas:\"))\n",
        "horas_extras = float(input(\"informe o número de horas extras trabalhadas:\"))\n",
        "num_dependentes = int(input(\"informe o número de dependentes:\"))\n",
        "\n",
        "# Constantes\n",
        "valor_hora_normal = 8\n",
        "valor_hora_extra = 9.5\n",
        "valor_dependentes = 2.5\n",
        "taxa_inss = 0.05\n",
        "\n",
        "# Etapa 1: Calculo do salario bruto\n",
        "salario_bruto = (horas_normais * valor_hora_normal) + (horas_extras * valor_hora_extra) + (num_dependentes * valor_dependentes)\n",
        "\n",
        "# Etapa 2: Calculo do desconto INSS (5% do salrio bruto)\n",
        "desconto_inss = salario_bruto * taxa_inss\n",
        "\n",
        "# Etapa 3: Calculo do salario liquido\n",
        "salario_liquido = salario_bruto - desconto_inss\n",
        "\n",
        "# Saida: Exibe o número de identificação, nome do funcionario e o salario liquido\n",
        "print(\"\\nNumero de identificação:\", numero_id)\n",
        "print(\"Nome:\", nome)\n",
        "print(\"Salario Liquido: R$\", round(salario_liquido, 2))\n",
        "\n"
      ],
      "metadata": {
        "colab": {
          "base_uri": "https://localhost:8080/"
        },
        "id": "hgkneCi6j3CC",
        "outputId": "514c5962-edf3-450e-e1ea-d8ef8e7cd25e"
      },
      "execution_count": null,
      "outputs": [
        {
          "output_type": "stream",
          "name": "stdout",
          "text": [
            "informe o nome do funcionario:Lucas \n",
            "informe o número de identificação do funcionarioLucas  :001\n",
            "informe o numero de horas normais trabalhadas:220\n",
            "informe o número de horas extras trabalhadas:50\n",
            "informe o número de dependentes:1\n",
            "\n",
            "Numero de identificação: 001\n",
            "Nome: Lucas \n",
            "Salario Liquido: R$ 2125.62\n"
          ]
        }
      ]
    }
  ]
}