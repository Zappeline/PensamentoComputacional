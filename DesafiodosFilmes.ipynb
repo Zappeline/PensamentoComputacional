{
  "cells": [
    {
      "cell_type": "markdown",
      "metadata": {
        "id": "view-in-github",
        "colab_type": "text"
      },
      "source": [
        "<a href=\"https://colab.research.google.com/github/Zappeline/PensamentoComputacional/blob/main/DesafiodosFilmes.ipynb\" target=\"_parent\"><img src=\"https://colab.research.google.com/assets/colab-badge.svg\" alt=\"Open In Colab\"/></a>"
      ]
    },
    {
      "cell_type": "markdown",
      "metadata": {
        "id": "S7VjLZo1AtWl"
      },
      "source": [
        "#Desafio Cinematográfico\n",
        "\n",
        "Seu desafio é desenvolver um programa em Python para registrar os\n",
        "filmes favoritos e as notas que você dá a cada um deles.\n",
        "\n",
        "- Até 1000 filmes\n",
        "- Notas entre 0.0 e 10.0\n",
        "- Funções para a média das notas e imprimir suas informações"
      ]
    },
    {
      "cell_type": "code",
      "source": [],
      "metadata": {
        "id": "NndlAqxQOJko"
      },
      "execution_count": null,
      "outputs": []
    },
    {
      "cell_type": "code",
      "execution_count": 1,
      "metadata": {
        "colab": {
          "base_uri": "https://localhost:8080/"
        },
        "id": "nnaRsVLpAid9",
        "outputId": "586fbd32-0919-4092-d1ef-c69e0ac152fc"
      },
      "outputs": [
        {
          "output_type": "stream",
          "name": "stdout",
          "text": [
            "O filme Duna recebeu a nota 8.5 do aluno!\n",
            "O filme A procura da felicidade recebeu a nota 9.2 do aluno!\n",
            "O filme Mickey 17 recebeu a nota 8 do aluno!\n",
            "Digite: add para adicionar\n",
            "        apagar para remover\n",
            "        sair para encerrar\n",
            "Digite uma das opções: add\n",
            "Digite o nome do filme: Toy Story\n",
            "Digite uma nota de 1 a 10 para o filme: 9\n",
            "Nota válida!\n",
            "Digite: add para adicionar\n",
            "        apagar para remover\n",
            "        sair para encerrar\n",
            "Digite uma das opções: add\n",
            "Digite o nome do filme: Avatar\n",
            "Digite uma nota de 1 a 10 para o filme: 7\n",
            "Nota válida!\n",
            "Digite: add para adicionar\n",
            "        apagar para remover\n",
            "        sair para encerrar\n",
            "Digite uma das opções: add\n",
            "Digite o nome do filme: Enzo\n",
            "Digite uma nota de 1 a 10 para o filme: 9\n",
            "Nota válida!\n",
            "Digite: add para adicionar\n",
            "        apagar para remover\n",
            "        sair para encerrar\n",
            "Digite uma das opções: Pele\n",
            "Ação não encontrado!\n",
            "Digite: add para adicionar\n",
            "        apagar para remover\n",
            "        sair para encerrar\n",
            "Digite uma das opções: add\n",
            "Digite o nome do filme: Pele\n",
            "Digite uma nota de 1 a 10 para o filme: 5\n",
            "Nota válida!\n",
            "Digite: add para adicionar\n",
            "        apagar para remover\n",
            "        sair para encerrar\n",
            "Digite uma das opções: Jogos Mortais\n",
            "Ação não encontrado!\n",
            "Digite: add para adicionar\n",
            "        apagar para remover\n",
            "        sair para encerrar\n",
            "Digite uma das opções: add\n",
            "Digite o nome do filme: Jogos Mortais\n",
            "Digite uma nota de 1 a 10 para o filme: 8\n",
            "Nota válida!\n",
            "Digite: add para adicionar\n",
            "        apagar para remover\n",
            "        sair para encerrar\n",
            "Digite uma das opções: sair\n",
            "Até a próxima!\n",
            "\n",
            "\n",
            "############################################################\n",
            "O filme Duna recebeu a nota 8.5 do aluno!\n",
            "O filme A procura da felicidade recebeu a nota 9.2 do aluno!\n",
            "O filme Mickey 17 recebeu a nota 8 do aluno!\n",
            "O filme Toy Story recebeu a nota 9.0 do aluno!\n",
            "O filme Avatar recebeu a nota 7.0 do aluno!\n",
            "O filme Enzo recebeu a nota 9.0 do aluno!\n",
            "O filme Pele recebeu a nota 5.0 do aluno!\n",
            "O filme Jogos Mortais recebeu a nota 8.0 do aluno!\n",
            "Você avaliou 8 filmes!\n",
            "A média das notas é 8.0\n"
          ]
        }
      ],
      "source": [
        "from os import dup\n",
        "# Registrar filmes favoritos e as notas dadas a cada um deles\n",
        "\n",
        "def duplicidade(nome, filmes):\n",
        "  for filme in filmes:\n",
        "    if nome == filme[\"nome\"]:\n",
        "      return True\n",
        "  return False\n",
        "\n",
        "def media(filmes):\n",
        "  cnt = len(filmes)\n",
        "  if cnt == 0:\n",
        "    return 0\n",
        "  soma = 0\n",
        "  for filme in filmes:\n",
        "    soma += filme[\"nota\"]\n",
        "  return round(soma/cnt, 1)\n",
        "\n",
        "def imprime_filme(filmes):\n",
        "  for filme in filmes:\n",
        "    print(f\"O filme {filme['nome']} recebeu a nota {filme['nota']} do aluno!\")\n",
        "\n",
        "filmes = [{\"nome\": \"Duna\", \"nota\":8.5},\n",
        "          {\"nome\": \"A procura da felicidade\", \"nota\":9.2},\n",
        "          {\"nome\": \"Mickey 17\", \"nota\":8}]\n",
        "avaliacao = 3\n",
        "imprime_filme(filmes)\n",
        "op_string = \"Digite: add para adicionar\"\n",
        "op_string += \"\\n        apagar para remover\"\n",
        "op_string += \"\\n        sair para encerrar\"\n",
        "operacao = (op_string)\n",
        "\n",
        "while True:\n",
        "  print(op_string)\n",
        "  operacao = input(\"Digite uma das opções: \")\n",
        "  if operacao == \"add\":\n",
        "    nome = input(\"Digite o nome do filme: \")\n",
        "    while duplicidade(nome, filmes):\n",
        "      print(\"Filme já adicionado!\")\n",
        "      nome = input(\"Digite o nome do filme: \")\n",
        "    nota = float(input(\"Digite uma nota de 1 a 10 para o filme: \").replace(\",\", \".\"))\n",
        "    while nota < 0 or nota > 10:\n",
        "      print(\"Nota inválida!\")\n",
        "      break\n",
        "    else:\n",
        "      print(\"Nota válida!\")\n",
        "      avaliacao += 1\n",
        "      filmes.append({\"nome\": nome, \"nota\": nota})\n",
        "\n",
        "  elif operacao == \"apagar\":\n",
        "    nome = input(\"Digite o nome do filme a ser removido: \")\n",
        "    for filme in filmes:\n",
        "      if nome == filme[\"nome\"]:\n",
        "        filmes.remove(filme)\n",
        "        avaliacao -= 1\n",
        "        print(\"Filme removido!\")\n",
        "        break\n",
        "  elif operacao == \"sair\":\n",
        "    print(\"Até a próxima!\")\n",
        "    break\n",
        "\n",
        "  else:\n",
        "      print(\"Ação não encontrado!\")\n",
        "\n",
        "print(\"\\n\")\n",
        "print(\"#\"*60)\n",
        "imprime_filme(filmes)\n",
        "print(f\"Você avaliou {avaliacao} filmes!\")\n",
        "print(f\"A média das notas é {media(filmes)}\")"
      ]
    }
  ],
  "metadata": {
    "colab": {
      "provenance": [],
      "authorship_tag": "ABX9TyMWNpSoin2kTfzVOXDoUT2R",
      "include_colab_link": true
    },
    "kernelspec": {
      "display_name": "Python 3",
      "name": "python3"
    },
    "language_info": {
      "name": "python"
    }
  },
  "nbformat": 4,
  "nbformat_minor": 0
}