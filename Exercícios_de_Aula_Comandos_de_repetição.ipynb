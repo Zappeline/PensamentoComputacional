{
  "nbformat": 4,
  "nbformat_minor": 0,
  "metadata": {
    "colab": {
      "provenance": [],
      "authorship_tag": "ABX9TyMJas5y8d/oBEPpPixB7GZK",
      "include_colab_link": true
    },
    "kernelspec": {
      "name": "python3",
      "display_name": "Python 3"
    },
    "language_info": {
      "name": "python"
    }
  },
  "cells": [
    {
      "cell_type": "markdown",
      "metadata": {
        "id": "view-in-github",
        "colab_type": "text"
      },
      "source": [
        "<a href=\"https://colab.research.google.com/github/Zappeline/PensamentoComputacional/blob/main/Exerci%CC%81cios_de_Aula_Comandos_de_repetic%CC%A7a%CC%83o.ipynb\" target=\"_parent\"><img src=\"https://colab.research.google.com/assets/colab-badge.svg\" alt=\"Open In Colab\"/></a>"
      ]
    },
    {
      "cell_type": "markdown",
      "source": [
        "# Exercícios de Aula - Comandos de *repetição*\n"
      ],
      "metadata": {
        "id": "lusso0Qplt2y"
      }
    },
    {
      "cell_type": "markdown",
      "source": [
        "#1. Transcreva o algoritmo a seguir para Python:\n",
        "ALGORITMO TABUADA_9;\n",
        "VAR\n",
        "\n",
        "N, X, R : INTEIRO;\n",
        "\n",
        "INICIO\n",
        "\n",
        "PARA X DE 1 ATE 10 FACA\n",
        "\n",
        "INICIO\n",
        "\n",
        "R ← 9 * X;\n",
        "\n",
        "ESCREVER ( X, ‘ x 9 = ’, R);\n",
        "FIM;\n",
        "\n",
        "FIM_PARA;\n",
        "\n",
        "FIM."
      ],
      "metadata": {
        "id": "EVO4pT--l1k4"
      }
    },
    {
      "cell_type": "code",
      "source": [
        "# Transcrever o algoritmo\n",
        "\n",
        "# Tabuada do 9\n",
        "\n",
        "# Var\n",
        "N = 0\n",
        "X = 0\n",
        "R = 0\n",
        "# Inicio\n",
        "for x in range(1, 11):\n",
        "  R = 9 * x\n",
        "  print(x, \"x 9 = \", R)\n",
        "# Fim\n"
      ],
      "metadata": {
        "id": "PEiCCmD6l9YY"
      },
      "execution_count": null,
      "outputs": []
    },
    {
      "cell_type": "markdown",
      "source": [
        "# 2. Faça um programa em Python que mostre todos os números inteiros ímpares situados na faixa de 1000 a 1500."
      ],
      "metadata": {
        "id": "ryIByMKAmA6a"
      }
    },
    {
      "cell_type": "code",
      "source": [
        "# Numeros impares inteiros de 1000 a 1500\n",
        "for x in range(1001, 1501, 2):\n",
        "  print(x)"
      ],
      "metadata": {
        "id": "AXmW5biFmC2I",
        "colab": {
          "base_uri": "https://localhost:8080/"
        },
        "outputId": "7f64464c-1cd0-4ca8-d59f-77cea7d628b2"
      },
      "execution_count": null,
      "outputs": [
        {
          "output_type": "stream",
          "name": "stdout",
          "text": [
            "1001\n",
            "1003\n",
            "1005\n",
            "1007\n",
            "1009\n",
            "1011\n",
            "1013\n",
            "1015\n",
            "1017\n",
            "1019\n",
            "1021\n",
            "1023\n",
            "1025\n",
            "1027\n",
            "1029\n",
            "1031\n",
            "1033\n",
            "1035\n",
            "1037\n",
            "1039\n",
            "1041\n",
            "1043\n",
            "1045\n",
            "1047\n",
            "1049\n",
            "1051\n",
            "1053\n",
            "1055\n",
            "1057\n",
            "1059\n",
            "1061\n",
            "1063\n",
            "1065\n",
            "1067\n",
            "1069\n",
            "1071\n",
            "1073\n",
            "1075\n",
            "1077\n",
            "1079\n",
            "1081\n",
            "1083\n",
            "1085\n",
            "1087\n",
            "1089\n",
            "1091\n",
            "1093\n",
            "1095\n",
            "1097\n",
            "1099\n",
            "1101\n",
            "1103\n",
            "1105\n",
            "1107\n",
            "1109\n",
            "1111\n",
            "1113\n",
            "1115\n",
            "1117\n",
            "1119\n",
            "1121\n",
            "1123\n",
            "1125\n",
            "1127\n",
            "1129\n",
            "1131\n",
            "1133\n",
            "1135\n",
            "1137\n",
            "1139\n",
            "1141\n",
            "1143\n",
            "1145\n",
            "1147\n",
            "1149\n",
            "1151\n",
            "1153\n",
            "1155\n",
            "1157\n",
            "1159\n",
            "1161\n",
            "1163\n",
            "1165\n",
            "1167\n",
            "1169\n",
            "1171\n",
            "1173\n",
            "1175\n",
            "1177\n",
            "1179\n",
            "1181\n",
            "1183\n",
            "1185\n",
            "1187\n",
            "1189\n",
            "1191\n",
            "1193\n",
            "1195\n",
            "1197\n",
            "1199\n",
            "1201\n",
            "1203\n",
            "1205\n",
            "1207\n",
            "1209\n",
            "1211\n",
            "1213\n",
            "1215\n",
            "1217\n",
            "1219\n",
            "1221\n",
            "1223\n",
            "1225\n",
            "1227\n",
            "1229\n",
            "1231\n",
            "1233\n",
            "1235\n",
            "1237\n",
            "1239\n",
            "1241\n",
            "1243\n",
            "1245\n",
            "1247\n",
            "1249\n",
            "1251\n",
            "1253\n",
            "1255\n",
            "1257\n",
            "1259\n",
            "1261\n",
            "1263\n",
            "1265\n",
            "1267\n",
            "1269\n",
            "1271\n",
            "1273\n",
            "1275\n",
            "1277\n",
            "1279\n",
            "1281\n",
            "1283\n",
            "1285\n",
            "1287\n",
            "1289\n",
            "1291\n",
            "1293\n",
            "1295\n",
            "1297\n",
            "1299\n",
            "1301\n",
            "1303\n",
            "1305\n",
            "1307\n",
            "1309\n",
            "1311\n",
            "1313\n",
            "1315\n",
            "1317\n",
            "1319\n",
            "1321\n",
            "1323\n",
            "1325\n",
            "1327\n",
            "1329\n",
            "1331\n",
            "1333\n",
            "1335\n",
            "1337\n",
            "1339\n",
            "1341\n",
            "1343\n",
            "1345\n",
            "1347\n",
            "1349\n",
            "1351\n",
            "1353\n",
            "1355\n",
            "1357\n",
            "1359\n",
            "1361\n",
            "1363\n",
            "1365\n",
            "1367\n",
            "1369\n",
            "1371\n",
            "1373\n",
            "1375\n",
            "1377\n",
            "1379\n",
            "1381\n",
            "1383\n",
            "1385\n",
            "1387\n",
            "1389\n",
            "1391\n",
            "1393\n",
            "1395\n",
            "1397\n",
            "1399\n",
            "1401\n",
            "1403\n",
            "1405\n",
            "1407\n",
            "1409\n",
            "1411\n",
            "1413\n",
            "1415\n",
            "1417\n",
            "1419\n",
            "1421\n",
            "1423\n",
            "1425\n",
            "1427\n",
            "1429\n",
            "1431\n",
            "1433\n",
            "1435\n",
            "1437\n",
            "1439\n",
            "1441\n",
            "1443\n",
            "1445\n",
            "1447\n",
            "1449\n",
            "1451\n",
            "1453\n",
            "1455\n",
            "1457\n",
            "1459\n",
            "1461\n",
            "1463\n",
            "1465\n",
            "1467\n",
            "1469\n",
            "1471\n",
            "1473\n",
            "1475\n",
            "1477\n",
            "1479\n",
            "1481\n",
            "1483\n",
            "1485\n",
            "1487\n",
            "1489\n",
            "1491\n",
            "1493\n",
            "1495\n",
            "1497\n",
            "1499\n"
          ]
        }
      ]
    },
    {
      "cell_type": "markdown",
      "source": [
        "# 3. Elabore um programa em Python que calcule e escreva a soma de 10 números lidos."
      ],
      "metadata": {
        "id": "USLEVSNumDe4"
      }
    },
    {
      "cell_type": "code",
      "source": [
        "# Soma de 10 números\n",
        "soma = 0\n",
        "for x in range(10):\n",
        "  num = int(input(\"Digite um número: \"))\n",
        "  soma += num\n",
        "print(\"A soma dos números é: \", soma)"
      ],
      "metadata": {
        "id": "OheH5B3dmG3g",
        "colab": {
          "base_uri": "https://localhost:8080/"
        },
        "outputId": "3377e550-a8e0-4007-ce66-79aefc96cdb0"
      },
      "execution_count": null,
      "outputs": [
        {
          "output_type": "stream",
          "name": "stdout",
          "text": [
            "Digite um número: 5\n",
            "Digite um número: 1\n",
            "Digite um número: 5\n",
            "Digite um número: 8\n",
            "Digite um número: 7\n",
            "Digite um número: 6\n",
            "Digite um número: 2\n",
            "Digite um número: 4\n",
            "Digite um número: 5\n",
            "Digite um número: 8\n",
            "A soma dos números é:  51\n"
          ]
        }
      ]
    },
    {
      "cell_type": "markdown",
      "source": [
        "# 4. Faça um programa em Python que leia a nota de 10 alunos de uma turma. Ao final, deve ser escrita a média geral da turma."
      ],
      "metadata": {
        "id": "ooYgY8JamHTQ"
      }
    },
    {
      "cell_type": "code",
      "source": [
        "# Somar o total de notas e fazer a media\n",
        "soma = 0\n",
        "for x in range(10):\n",
        "  nota = float(input(\"Digite a nota do aluno: \"))\n",
        "  soma += nota\n",
        "print(\"A média da turma é: \", soma/10)"
      ],
      "metadata": {
        "id": "Wus9bZp3mK85"
      },
      "execution_count": null,
      "outputs": []
    },
    {
      "cell_type": "markdown",
      "source": [
        "# 5. Faça um programa em Python que leia 5 números. Para cada número fornecido, escreva se ele é NULO, NEGATIVO ou POSITIVO."
      ],
      "metadata": {
        "id": "UYq5l9lYmLxZ"
      }
    },
    {
      "cell_type": "code",
      "source": [
        "# Ler 5 numeros e informar o mesmo\n",
        "for x in range(5):\n",
        "  num = int(input(\"Digite um número: \"))\n",
        "  if num == 0:\n",
        "    print(\"O número é nulo\")\n",
        "  elif num < 0:\n",
        "    print(\"O número é negativo\")\n",
        "  else:\n",
        "    print(\"O número é positivo\")"
      ],
      "metadata": {
        "id": "quozIOCqmPIb",
        "colab": {
          "base_uri": "https://localhost:8080/"
        },
        "outputId": "3e78cc17-4d47-42eb-9924-d9441c6f9aa9"
      },
      "execution_count": null,
      "outputs": [
        {
          "metadata": {
            "tags": null
          },
          "name": "stdout",
          "output_type": "stream",
          "text": [
            "O número é positivo\n",
            "O número é positivo\n",
            "O número é nulo\n",
            "O número é negativo\n"
          ]
        }
      ]
    },
    {
      "cell_type": "markdown",
      "source": [
        "# 6. Ler dois valores inteiros e escrever os números em sequência do menor até maior valor."
      ],
      "metadata": {
        "id": "zhiLhUqomPtc"
      }
    },
    {
      "cell_type": "code",
      "source": [
        "def escrever_sequencia_ordenada():\n",
        "  \"\"\"Lê dois valores inteiros e escreve os números em sequência do menor para o maior.\"\"\"\n",
        "\n",
        "  try:\n",
        "    valor1 = int(input(\"Digite o primeiro valor inteiro: \"))\n",
        "    valor2 = int(input(\"Digite o segundo valor inteiro: \"))\n",
        "\n",
        "    if valor1 < valor2:\n",
        "      print(f\"Sequência: {valor1}, {valor2}\")\n",
        "    elif valor2 < valor1:\n",
        "      print(f\"Sequência: {valor2}, {valor1}\")\n",
        "    else:\n",
        "      print(f\"Os valores são iguais: {valor1}, {valor2}\")\n",
        "\n",
        "  except ValueError:\n",
        "    print(\"Entrada inválida. Por favor, digite valores inteiros.\")\n",
        "\n",
        "# Executa a função para ler e escrever a sequência ordenada\n",
        "escrever_sequencia_ordenada()"
      ],
      "metadata": {
        "id": "OftAKYuImSOz"
      },
      "execution_count": null,
      "outputs": []
    },
    {
      "cell_type": "markdown",
      "source": [
        "# 7. Faça um programa em Python que escreva os números pares entre 100 e 200."
      ],
      "metadata": {
        "id": "IaCvoqpnmS9D"
      }
    },
    {
      "cell_type": "code",
      "source": [
        "# Ler numeros pares de 100 a 200\n",
        "\n",
        "for x in range(100, 201, 2):\n",
        "  print(x)"
      ],
      "metadata": {
        "id": "fBYNt87MmVsr"
      },
      "execution_count": null,
      "outputs": []
    },
    {
      "cell_type": "markdown",
      "source": [
        "# 8. Escrever um programa em Python que leia um valor para n, inteiro e positivo, e escreva a tabuada de n. Com os respectivos valores.\n",
        "\n",
        "n x 1 =\n",
        "\n",
        "n x 2 =\n",
        "\n",
        "...\n",
        "\n",
        "n x 10 ="
      ],
      "metadata": {
        "id": "rgGG1OgamWfD"
      }
    },
    {
      "cell_type": "code",
      "source": [
        "def tabuada(n):\n",
        "  \"\"\"\n",
        "  Calcula e escreve a tabuada de um número inteiro positivo n.\n",
        "\n",
        "  Args:\n",
        "    n: Um número inteiro positivo.\n",
        "  \"\"\"\n",
        "  if not isinstance(n, int) or n <= 0:\n",
        "    print(\"Por favor, digite um número inteiro positivo.\")\n",
        "    return\n",
        "\n",
        "  print(f\"Tabuada do {n}:\")\n",
        "  for i in range(1, 11):\n",
        "    resultado = n * i\n",
        "    print(f\"{n} x {i} = {resultado}\")\n",
        "\n",
        "# Solicita ao usuário para digitar o valor de n\n",
        "try:\n",
        "  num = int(input(\"Digite um número inteiro positivo para ver sua tabuada: \"))\n",
        "  tabuada(num)\n",
        "except ValueError:\n",
        "  print(\"Entrada inválida. Por favor, digite um número inteiro.\")"
      ],
      "metadata": {
        "id": "axfb7JAJmbuD"
      },
      "execution_count": null,
      "outputs": []
    },
    {
      "cell_type": "markdown",
      "source": [
        "# 9. Escrever um programa em Python que gera os números de 1000 a 1999 e escreve aqueles que divididos por 11 dão um resto igual a 5."
      ],
      "metadata": {
        "id": "b9R1csihmcwD"
      }
    },
    {
      "cell_type": "code",
      "source": [
        "# Escrever os numeros de 1000 a 1999 aqueles que divididos por 11 o resto seja igual a 5\n",
        "for x in range(1000, 2000):\n",
        "  if x % 11 == 5:\n",
        "    print(x)"
      ],
      "metadata": {
        "id": "_MG6rTOemflE"
      },
      "execution_count": null,
      "outputs": []
    },
    {
      "cell_type": "markdown",
      "source": [
        "# 10. Faça um programa em Python que leia um número qualquer (N), e realize a soma dos números de 1 até N. Ao final, deve-se escrever o resultado."
      ],
      "metadata": {
        "id": "QQ0NfY_cmhw0"
      }
    },
    {
      "cell_type": "code",
      "source": [
        "# Ler um numero e realizar a soma de 1 até o mesmo, e escrever o resultado\n",
        "num = int(input(\"Digite um número: \"))\n",
        "soma = 0\n",
        "for x in range(1, num + 1):\n",
        "  soma += x\n",
        "print(\"A soma dos números de 1 até\", num, \"é:\", soma)"
      ],
      "metadata": {
        "id": "usBIRj8Imjrb"
      },
      "execution_count": null,
      "outputs": []
    },
    {
      "cell_type": "markdown",
      "source": [
        "# 11. Faça um programa em Python para ler 10 valores inteiros. Para cada valor fornecido escreva uma mensagem que indica se cada valor fornecido é PAR ou ÍMPAR."
      ],
      "metadata": {
        "id": "oh8zXpbwmkCb"
      }
    },
    {
      "cell_type": "code",
      "source": [
        "# Ler 10 numeros e identificar se é par ou impar\n",
        "def verificar_par_impar():\n",
        "  \"\"\"Lê 10 valores inteiros e informa se cada um é PAR ou ÍMPAR.\"\"\"\n",
        "\n",
        "  for i in range(10):\n",
        "    try:\n",
        "      valor = int(input(f\"Digite o {i+1}º valor inteiro: \"))\n",
        "      if valor % 2 == 0:\n",
        "        print(f\"O valor {valor} é PAR.\")\n",
        "      else:\n",
        "        print(f\"O valor {valor} é ÍMPAR.\")\n",
        "    except ValueError:\n",
        "      print(\"Entrada inválida. Por favor, digite um número inteiro.\")\n",
        "\n",
        "# Executa a função para ler e verificar os valores\n",
        "verificar_par_impar()"
      ],
      "metadata": {
        "id": "n_Qeh4aDmvFL"
      },
      "execution_count": null,
      "outputs": []
    },
    {
      "cell_type": "markdown",
      "source": [
        "# 12. Faça um programa em Python que leia a idade de 10 alunos, calcule e escreva a média de idade destes."
      ],
      "metadata": {
        "id": "ESxmqstumzhb"
      }
    },
    {
      "cell_type": "code",
      "source": [
        "# Ler idade de 10 alunos, calcular e tirar a media\n",
        "soma = 0\n",
        "for x in range(10):\n",
        "  idade = int(input(\"Digite a idade do aluno: \"))\n",
        "  soma += idade\n",
        "print(\"A média de idade dos alunos é: \", soma/10)"
      ],
      "metadata": {
        "id": "L7eC0wxJm4aT"
      },
      "execution_count": null,
      "outputs": []
    },
    {
      "cell_type": "markdown",
      "source": [
        "# 13. Faça um algoritmo em Python que leia dois valores inteiros e escreva se eles estão em ordem crescente, decrescente ou são iguais, após isso escreva todos os valores do menor ao maior."
      ],
      "metadata": {
        "id": "UE2J1oHHm43s"
      }
    },
    {
      "cell_type": "code",
      "source": [
        "def verificar_ordem_e_escrever_ordenado():\n",
        "  \"\"\"\n",
        "  Lê dois valores inteiros, verifica sua ordem (crescente, decrescente ou iguais)\n",
        "  e escreve todos os valores do menor para o maior.\n",
        "  \"\"\"\n",
        "  try:\n",
        "    valor1 = int(input(\"Digite o primeiro valor inteiro: \"))\n",
        "    valor2 = int(input(\"Digite o segundo valor inteiro: \"))\n",
        "\n",
        "    if valor1 < valor2:\n",
        "      print(\"Os valores estão em ordem crescente.\")\n",
        "      print(f\"Valores em ordem crescente: {valor1}, {valor2}\")\n",
        "    elif valor1 > valor2:\n",
        "      print(\"Os valores estão em ordem decrescente.\")\n",
        "      print(f\"Valores em ordem crescente: {valor2}, {valor1}\")\n",
        "    else:\n",
        "      print(\"Os valores são iguais.\")\n",
        "      print(f\"Valores em ordem crescente: {valor1}, {valor2}\")\n",
        "\n",
        "  except ValueError:\n",
        "    print(\"Entrada inválida. Por favor, digite valores inteiros.\")\n",
        "\n",
        "# Executa a função para ler, verificar e escrever os valores\n",
        "verificar_ordem_e_escrever_ordenado()"
      ],
      "metadata": {
        "id": "L-L6cWtym8EL"
      },
      "execution_count": null,
      "outputs": []
    },
    {
      "cell_type": "markdown",
      "source": [
        "# 14. Escrever um programa em Python que lê 10 valores para n, um de cada vez, todos inteiros e positivos, e para cada n lido, escreva a tabuada de 1 até n de n.\n",
        "\n",
        "1 x n = n\n",
        "\n",
        "2 x n = 2n\n",
        "\n",
        "...\n",
        "n x n = n"
      ],
      "metadata": {
        "id": "jNIBqs4Im8xT"
      }
    },
    {
      "cell_type": "code",
      "source": [
        "# Ler dois valores para N, um por vez e para cada um ler a tabuada de 1 ate 9\n",
        "def tabuada_multipla():\n",
        "  \"\"\"\n",
        "  Lê 10 valores inteiros e positivos para n e escreve a tabuada de 1 até n de cada n.\n",
        "  \"\"\"\n",
        "  for _ in range(10):\n",
        "    try:\n",
        "      n = int(input(\"Digite um número inteiro positivo (n): \"))\n",
        "      if n <= 0:\n",
        "        print(\"Por favor, digite um número inteiro positivo.\")\n",
        "        continue  # Volta para a próxima iteração do loop\n",
        "\n",
        "      print(f\"\\nTabuada de 1 até {n} para o número {n}:\")\n",
        "      for i in range(1, n + 1):\n",
        "        resultado = n * i\n",
        "        print(f\"{n} x {i} = {resultado}\")\n",
        "\n",
        "    except ValueError:\n",
        "      print(\"Entrada inválida. Por favor, digite um número inteiro.\")\n",
        "\n",
        "# Executa a função para ler os valores e escrever as tabuadas\n",
        "tabuada_multipla()"
      ],
      "metadata": {
        "id": "PqJGnUAJnCir"
      },
      "execution_count": null,
      "outputs": []
    }
  ]
}