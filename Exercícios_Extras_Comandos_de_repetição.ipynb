{
  "cells": [
    {
      "cell_type": "markdown",
      "metadata": {
        "id": "view-in-github",
        "colab_type": "text"
      },
      "source": [
        "<a href=\"https://colab.research.google.com/github/Zappeline/PensamentoComputacional/blob/main/Exerci%CC%81cios_Extras_Comandos_de_repetic%CC%A7a%CC%83o.ipynb\" target=\"_parent\"><img src=\"https://colab.research.google.com/assets/colab-badge.svg\" alt=\"Open In Colab\"/></a>"
      ]
    },
    {
      "cell_type": "markdown",
      "metadata": {
        "id": "A9dtOiiRnpoY"
      },
      "source": [
        "Exercícios Extras - Comandos de repetição"
      ]
    },
    {
      "cell_type": "markdown",
      "metadata": {
        "id": "ezxf7zdXnqnY"
      },
      "source": [
        "# 1) Escreva um programa que lê um número inteiro N do usuário. O programa deverá escrever na tela o fatorial desse número (N!).\n",
        "\n",
        "Exemplo de entrada:\n",
        "\n",
        "5\n",
        "\n",
        "Saída:\n",
        "\n",
        "120\n",
        "\n",
        "Exemplo de entrada:\n",
        "\n",
        "8\n",
        "\n",
        "Saída:\n",
        "\n",
        "40320"
      ]
    },
    {
      "cell_type": "code",
      "execution_count": null,
      "metadata": {
        "id": "h2Yz1Nqvn0ZH",
        "colab": {
          "base_uri": "https://localhost:8080/"
        },
        "outputId": "23f00d4b-da16-48c4-865f-f087d3de9184"
      },
      "outputs": [
        {
          "output_type": "stream",
          "name": "stdout",
          "text": [
            "Digite um numero inteiro: 8\n",
            "40320\n"
          ]
        }
      ],
      "source": [
        "# Ler numero inteiro, e escrever o fatorial desse número\n",
        "n = int(input(\"Digite um numero inteiro: \"))\n",
        "fatorial = 1\n",
        "for i in range(1, n+1):\n",
        "  fatorial *= i\n",
        "print(fatorial)"
      ]
    },
    {
      "cell_type": "markdown",
      "metadata": {
        "id": "sDUob04vn07X"
      },
      "source": [
        "# 2) Escreva um programa para uma urna eletrônica. O programa fica lendo os votos até que o usuário informe o valor 4444444 (código de finalização da urna). Após a finalização da urna, o programa deverá escrever na tela a quantidade de votos e o percentual de votos para cada uma das opções abaixo:\n",
        "a. Votos no Candidato 77\n",
        "\n",
        "b. Votos no Candidato 39\n",
        "\n",
        "c. Votos no Candidato 66\n",
        "\n",
        "d. Voto em branco (0)\n",
        "\n",
        "e. Votos nulos (nenhuma das opções anteriores)\n",
        "\n",
        "f. Votos válidos (aqueles computados para algum candidato)\n",
        "\n",
        "g. Votos não válidos"
      ]
    },
    {
      "cell_type": "code",
      "execution_count": null,
      "metadata": {
        "colab": {
          "base_uri": "https://localhost:8080/"
        },
        "id": "Nk7bZ2L1n-A_",
        "outputId": "93191ede-4e0e-4a93-90aa-29f0d5091bc3"
      },
      "outputs": [
        {
          "name": "stdout",
          "output_type": "stream",
          "text": [
            "Urna Eletronica!\n",
            "Vote 77 para candidato 1\n",
            "Vote 39  para candidato 2\n",
            "Vote 66  para candidato 3\n",
            "Digite o seu voto: 39\n",
            "Urna Eletronica!\n",
            "Vote 77 para candidato 1\n",
            "Vote 39  para candidato 2\n",
            "Vote 66  para candidato 3\n",
            "Digite o seu voto: 66\n",
            "Urna Eletronica!\n",
            "Vote 77 para candidato 1\n",
            "Vote 39  para candidato 2\n",
            "Vote 66  para candidato 3\n",
            "Digite o seu voto: 66\n",
            "Urna Eletronica!\n",
            "Vote 77 para candidato 1\n",
            "Vote 39  para candidato 2\n",
            "Vote 66  para candidato 3\n",
            "Digite o seu voto: 66\n",
            "Urna Eletronica!\n",
            "Vote 77 para candidato 1\n",
            "Vote 39  para candidato 2\n",
            "Vote 66  para candidato 3\n",
            "Digite o seu voto: 4444444\n",
            "####################\n",
            "RESULTADO DA VOTAÇÃO!\n",
            "Votos totais: 4\n",
            "Votos Validos: 4\n",
            "Votos Invalidos: 0\n",
            "--------------------\n",
            "O candidato 77 teve 0.0 dos votos validos\n",
            "O candidato 39 teve 25.0 dos votos validos\n",
            "O candidato 66 teve 75.0 dos votos validos\n"
          ]
        }
      ],
      "source": [
        "# Algoritmo de uma urna eletronica\n",
        "\n",
        "# Constantes\n",
        "\n",
        "cand_i = \"77\"\n",
        "cand_ii = \"39\"\n",
        "cand_iii = \"66\"\n",
        "branco = \"0\"\n",
        "votos_invalidos = \"0\"\n",
        "sair = \"4444444\"\n",
        "\n",
        "# Var\n",
        "voto = \"\"\n",
        "cnt_votos_nulos = 0\n",
        "cnt_votos_invalidos = 0\n",
        "\n",
        "cnt_cand_i = 0\n",
        "cnt_cand_ii = 0\n",
        "cnt_cand_iii = 0\n",
        "cnt_branco = 0\n",
        "\n",
        "# Laço de votação\n",
        "while voto != sair:\n",
        "  print(\"Urna Eletronica!\")\n",
        "  print(\"Vote\", cand_i, \"para candidato 1\")\n",
        "  print(\"Vote\", cand_ii, \" para candidato 2\")\n",
        "  print(\"Vote\", cand_iii, \" para candidato 3\")\n",
        "  voto = input(\"Digite o seu voto: \")\n",
        "\n",
        "  if voto == cand_i:\n",
        "    cnt_cand_i += 1\n",
        "  elif voto == cand_ii:\n",
        "    cnt_cand_ii += 1\n",
        "  elif voto == cand_iii:\n",
        "    cnt_cand_iii += 1\n",
        "  elif voto == branco:\n",
        "    cnt_branco += 1\n",
        "  elif voto == \"\":\n",
        "    cnt_votos_invalidos += 1\n",
        "  else:\n",
        "    if voto != sair:\n",
        "        nt_votos_nulos += 1\n",
        "\n",
        "# Contabilizar votos\n",
        "votos_validos = cnt_cand_i + cnt_cand_ii + cnt_cand_iii + cnt_branco\n",
        "votos_totais = votos_validos + cnt_votos_invalidos\n",
        "print('#' *20)\n",
        "print(\"RESULTADO DA VOTAÇÃO!\")\n",
        "print(\"Votos totais:\", votos_totais )\n",
        "print(\"Votos Validos:\", votos_validos)\n",
        "print(\"Votos Invalidos:\", votos_invalidos)\n",
        "print('-'*20)\n",
        "print(\"O candidato\", cand_i, \"teve\", round((cnt_cand_i/votos_validos)*100, 2), \"dos votos validos\")\n",
        "print(\"O candidato\", cand_ii, \"teve\", round((cnt_cand_ii/votos_validos)*100, 2), \"dos votos validos\")\n",
        "print(\"O candidato\", cand_iii, \"teve\", round((cnt_cand_iii/votos_validos)*100, 2), \"dos votos validos\")"
      ]
    },
    {
      "cell_type": "markdown",
      "metadata": {
        "id": "fZECGHa83c5-"
      },
      "source": [
        "### 3) SENHA!!!"
      ]
    },
    {
      "cell_type": "code",
      "execution_count": null,
      "metadata": {
        "colab": {
          "background_save": true,
          "base_uri": "https://localhost:8080/"
        },
        "id": "4KHvqCi73g1F",
        "outputId": "243986a3-e06f-4656-e40e-125507fb0d87"
      },
      "outputs": [
        {
          "name": "stdout",
          "output_type": "stream",
          "text": [
            "Senha incorreta!\n",
            "Senha incorreta!\n",
            "Senha incorreta!\n",
            "Você errou 3 vezes,aguarde 6s para tentar novamente\n"
          ]
        }
      ],
      "source": [
        "# Algoritmo que verifica uma senha e libera acesso!\n",
        "import time\n",
        "\n",
        "senha = \"4444\"\n",
        "senha_digitada = \"\"\n",
        "cnt_tentativas = 0\n",
        "\n",
        "while True:\n",
        "  senha_digitada = input(\"Digite a senha:\" )\n",
        "  cnt_tentativas += 1\n",
        "  if senha_digitada == senha:\n",
        "    break\n",
        "  else:\n",
        "    print(\"Senha incorreta!\")\n",
        "2\n",
        "  if cnt_tentativas >= 3:\n",
        "    tempo = cnt_tentativas * 2\n",
        "    print(f\"Você errou 3 vezes,aguarde {tempo}s para tentar novamente\")\n",
        "    time.sleep(tempo) # \"Dorme\" por 60 segundos\n",
        "\n",
        "\n",
        "print(\"Acesso liberado! \")"
      ]
    }
  ],
  "metadata": {
    "colab": {
      "provenance": [],
      "authorship_tag": "ABX9TyMD2h9y/E4FNdwbBbS2Yvvg",
      "include_colab_link": true
    },
    "kernelspec": {
      "display_name": "Python 3",
      "name": "python3"
    },
    "language_info": {
      "name": "python"
    }
  },
  "nbformat": 4,
  "nbformat_minor": 0
}